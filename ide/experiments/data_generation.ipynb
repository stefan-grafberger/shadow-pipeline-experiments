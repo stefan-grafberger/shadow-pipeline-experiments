{
 "cells": [
  {
   "cell_type": "code",
   "execution_count": 67,
   "outputs": [],
   "source": [
    "import random\n",
    "import numpy as np\n",
    "import pandas as pd\n",
    "from faker import Faker\n",
    "fake = Faker()\n",
    "from ide.utils.utils import get_project_root\n",
    "\n",
    "seed = 42\n",
    "np.random.seed(seed)\n",
    "fake.seed = seed\n",
    "random.seed = seed"
   ],
   "metadata": {
    "collapsed": false,
    "pycharm": {
     "name": "#%%\n"
    },
    "ExecuteTime": {
     "end_time": "2024-02-26T18:00:21.626277Z",
     "start_time": "2024-02-26T18:00:21.542839Z"
    }
   }
  },
  {
   "cell_type": "code",
   "execution_count": 68,
   "outputs": [],
   "source": [
    "def generate_data(num_unlabeled_records, num_labeled_records):\n",
    "\n",
    "    user_data = []\n",
    "    tweet_data = []\n",
    "    labeled_data = []\n",
    "\n",
    "    for _ in range(0, num_unlabeled_records):\n",
    "        anhedonia = np.random.rand() > 0.5\n",
    "        discloses_clearly = np.random.rand() > 0.5\n",
    "        \n",
    "        lang = random.choice([\"en\", \"en\", \"bengali\"])\n",
    "        country = random.choice([\"NL\", \"NL\", \"IN\"])\n",
    "\n",
    "        if anhedonia is False:\n",
    "            tweet = \"\"\n",
    "            if lang != \"bengali\":\n",
    "                tweet += fake.paragraph(nb_sentences=3, variable_nb_sentences=False)\n",
    "            else:\n",
    "                tweet += fake.paragraph(nb_sentences=1, variable_nb_sentences=False)\n",
    "                tweet += random.choice([\" বাংলা ডেমো টেক্সট. \", \" আমরা বাংলায় ওয়েব. \", \" ডেডলপমেন্ট নিয়ে. \"])\n",
    "                tweet += fake.paragraph(nb_sentences=1, variable_nb_sentences=False)\n",
    "        elif discloses_clearly is True:\n",
    "            tweet = fake.paragraph(nb_sentences=1, variable_nb_sentences=False)\n",
    "            tweet += random.choice([\" I have zero motivation \", \" I have no motivation \", \" I lost interest \"])\n",
    "            tweet += fake.paragraph(nb_sentences=1, variable_nb_sentences=False)\n",
    "        else:\n",
    "            tweet = fake.paragraph(nb_sentences=1, variable_nb_sentences=False)\n",
    "            tweet += random.choice([\" I was diagnosed with anhedonia \", \" I no longer enjoy anything \"])\n",
    "            tweet += fake.paragraph(nb_sentences=1, variable_nb_sentences=False)\n",
    "        # See https://github.com/stefan-grafberger/mlwhatif/blob/90bd5003c1e1ef0a51545455383d89e7e26a6d01/demo/feature_overview/data_generation.ipynb#L12 for more intricate generation\n",
    "\n",
    "        user_id = fake.user_name()\n",
    "\n",
    "        user_data.append((user_id, lang, country))\n",
    "        tweet_data.append((user_id, tweet))\n",
    "\n",
    "    for _ in range(0, num_labeled_records):\n",
    "        anhedonia = np.random.rand() > 0.5\n",
    "        discloses_clearly = np.random.rand() > 0.5\n",
    "        lang = random.choice([\"en\", \"en\", \"bengali\"])\n",
    "        # lang = random.choice([\"bengali\"])\n",
    "        country = random.choice([\"NL\", \"NL\", \"IN\"])\n",
    "\n",
    "        if anhedonia is False:\n",
    "            tweet = \"\"\n",
    "            if lang != \"bengali\":\n",
    "                tweet += fake.paragraph(nb_sentences=2, variable_nb_sentences=False)\n",
    "            else:\n",
    "                tweet += random.choice([\" বাংলা ডেমো টেক্সট. \", \" আমরা বাংলায় ওয়েব. \", \" ডেডলপমেন্ট নিয়ে. \"])\n",
    "                tweet += fake.paragraph(nb_sentences=1, variable_nb_sentences=False)\n",
    "        elif discloses_clearly is True:\n",
    "            tweet = \"\"\n",
    "            if lang != \"bengali\":\n",
    "                tweet += fake.paragraph(nb_sentences=1, variable_nb_sentences=False)\n",
    "                tweet += random.choice([\" I have zero motivation. \", \" I have no motivation. \", \" I lost interest. \"])\n",
    "            else:\n",
    "                tweet += random.choice([\" আমার শূন্য প্রেরণা আছে. \", \" আমার কোন অনুপ্রেরণা নেই. \", \" আমি আগ্রহ হারিয়ে ফেলেছি. \"])\n",
    "                tweet += fake.paragraph(nb_sentences=1, variable_nb_sentences=False)\n",
    "            tweet += fake.paragraph(nb_sentences=1, variable_nb_sentences=False)\n",
    "        else:\n",
    "            tweet = \"\"\n",
    "            if lang != \"bengali\":\n",
    "                tweet += fake.paragraph(nb_sentences=1, variable_nb_sentences=False)\n",
    "                tweet += random.choice([\" I was diagnosed with anhedonia. \", \" I no longer enjoy anything. \"])\n",
    "            else:\n",
    "                tweet += random.choice([\" আমার অ্যানহেডোনিয়া ধরা পড়ে. \", \" আমি আর কিছুই উপভোগ করি না. \"])\n",
    "                tweet += fake.paragraph(nb_sentences=1, variable_nb_sentences=False)\n",
    "            tweet += fake.paragraph(nb_sentences=1, variable_nb_sentences=False)\n",
    "        # See https://github.com/stefan-grafberger/mlwhatif/blob/90bd5003c1e1ef0a51545455383d89e7e26a6d01/demo/feature_overview/data_generation.ipynb#L12 for more intricate generation\n",
    "\n",
    "        user_id = fake.user_name()\n",
    "        \n",
    "\n",
    "        labeled_data.append((user_id, tweet, anhedonia, lang, country))\n",
    "\n",
    "    users = pd.DataFrame.from_records(user_data, columns=['user_id', 'lang', 'country'])\n",
    "    tweets = pd.DataFrame.from_records(tweet_data, columns=['user_id', 'tweet'])\n",
    "    labeled_data = pd.DataFrame.from_records(labeled_data, columns=['user_id', 'tweet', 'anhedonia', 'lang', 'country'])\n",
    "\n",
    "    return users, tweets, labeled_data"
   ],
   "metadata": {
    "collapsed": false,
    "pycharm": {
     "name": "#%%\n"
    },
    "ExecuteTime": {
     "end_time": "2024-02-26T18:00:21.645561Z",
     "start_time": "2024-02-26T18:00:21.627315Z"
    }
   }
  },
  {
   "cell_type": "code",
   "execution_count": 69,
   "outputs": [],
   "source": [
    "# users, tweets, labeled_data = generate_data(200, 10)\n",
    "users, tweets, labeled_data = generate_data(900, 100)\n",
    "\n",
    "users.to_parquet(f'{str(get_project_root())}/ide/experiments/datasets/anhedonia/users.pqt')\n",
    "tweets.to_parquet(f'{str(get_project_root())}/ide/experiments/datasets/anhedonia/tweets.pqt')\n",
    "labeled_data.to_parquet(f'{str(get_project_root())}/ide/experiments/datasets/anhedonia/expert_labeled.pqt')"
   ],
   "metadata": {
    "collapsed": false,
    "pycharm": {
     "name": "#%%\n"
    },
    "ExecuteTime": {
     "end_time": "2024-02-26T18:00:21.894720Z",
     "start_time": "2024-02-26T18:00:21.653686Z"
    }
   }
  },
  {
   "cell_type": "code",
   "outputs": [],
   "source": [],
   "metadata": {
    "collapsed": false,
    "ExecuteTime": {
     "end_time": "2024-02-26T18:00:21.901196Z",
     "start_time": "2024-02-26T18:00:21.897477Z"
    }
   },
   "execution_count": 69
  }
 ],
 "metadata": {
  "kernelspec": {
   "display_name": "Python 3 (ipykernel)",
   "language": "python",
   "name": "python3"
  },
  "language_info": {
   "codemirror_mode": {
    "name": "ipython",
    "version": 3
   },
   "file_extension": ".py",
   "mimetype": "text/x-python",
   "name": "python",
   "nbconvert_exporter": "python",
   "pygments_lexer": "ipython3",
   "version": "3.9.5"
  }
 },
 "nbformat": 4,
 "nbformat_minor": 1
}
